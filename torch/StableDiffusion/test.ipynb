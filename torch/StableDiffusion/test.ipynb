{
 "cells": [
  {
   "cell_type": "code",
   "execution_count": 9,
   "metadata": {},
   "outputs": [
    {
     "name": "stdout",
     "output_type": "stream",
     "text": [
      "tensor([ 0.8837,  0.1377,  1.1884, -0.6793,  1.7250])\n"
     ]
    }
   ],
   "source": [
    "import torch\n",
    "\n",
    "print(torch.randn(5))"
   ]
  }
 ],
 "metadata": {
  "kernelspec": {
   "display_name": "chater",
   "language": "python",
   "name": "python3"
  },
  "language_info": {
   "codemirror_mode": {
    "name": "ipython",
    "version": 3
   },
   "file_extension": ".py",
   "mimetype": "text/x-python",
   "name": "python",
   "nbconvert_exporter": "python",
   "pygments_lexer": "ipython3",
   "version": "3.12.2"
  }
 },
 "nbformat": 4,
 "nbformat_minor": 2
}
